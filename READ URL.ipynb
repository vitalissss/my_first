{
 "cells": [
  {
   "cell_type": "code",
   "execution_count": 38,
   "id": "a3f1cc76",
   "metadata": {},
   "outputs": [
    {
     "name": "stdout",
     "output_type": "stream",
     "text": [
      "Counter({'starlife': 13, 'politics': 11, 'video': 10, 'world': 9, 'articles': 7, 'incidents': 6, 'science': 6, 'business': 5, 'cis': 4, 'head': 3, 'sport': 3, 'middleeast': 3, 'economics': 3, 'latest': 2, 'health': 2, 'crazy-world': 2, 'lifestyle': 2, 'moscow_city': 1, '?updated=top\\n': 1, 'travel': 1, 'auto': 1, 'scitech': 1, 'finances': 1, 'europe': 1, 'kinomusic': 1})\n"
     ]
    }
   ],
   "source": [
    "from collections import Counter\n",
    "with open(\"C:/Users/RY563/Downloads/urls.txt\", \"r\") as file1:\n",
    "    thems = []\n",
    "    # итерация по строкам\n",
    "    for line in file1:\n",
    "        my_url = line.split('/') #поиск символа '/' и разбиение по элементам\n",
    "        if my_url[1]!='\\n':\n",
    "            thems.append(my_url[1]) #добавление первых эл-ов в список (получаем список тем)\n",
    "print(Counter(thems)) #число вхождений каждого элемента в список"
   ]
  }
 ],
 "metadata": {
  "kernelspec": {
   "display_name": "Python 3 (ipykernel)",
   "language": "python",
   "name": "python3"
  },
  "language_info": {
   "codemirror_mode": {
    "name": "ipython",
    "version": 3
   },
   "file_extension": ".py",
   "mimetype": "text/x-python",
   "name": "python",
   "nbconvert_exporter": "python",
   "pygments_lexer": "ipython3",
   "version": "3.11.4"
  }
 },
 "nbformat": 4,
 "nbformat_minor": 5
}
